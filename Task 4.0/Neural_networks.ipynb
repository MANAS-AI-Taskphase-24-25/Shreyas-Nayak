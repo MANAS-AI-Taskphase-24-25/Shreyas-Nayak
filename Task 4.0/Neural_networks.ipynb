{
 "cells": [
  {
   "cell_type": "markdown",
   "id": "a29e0801-c065-49ac-a07d-b3eb349ab05d",
   "metadata": {},
   "source": [
    "# Import Statements"
   ]
  },
  {
   "cell_type": "code",
   "execution_count": 2,
   "id": "f2feadca-4e26-409f-99af-95acaeed8115",
   "metadata": {},
   "outputs": [],
   "source": [
    "import numpy as np\n",
    "import pandas as pd\n",
    "from matplotlib import image\n",
    "import matplotlib.pyplot as plt\n",
    "import os\n",
    "import sys\n",
    "from sklearn.preprocessing import OneHotEncoder\n",
    "import seaborn as sns\n",
    "from sklearn.metrics import f1_score, precision_score, recall_score, accuracy_score\n",
    "from sklearn.metrics import confusion_matrix, ConfusionMatrixDisplay"
   ]
  },
  {
   "cell_type": "markdown",
   "id": "6f31ad49-68e9-43e9-9c85-67ed538419f3",
   "metadata": {},
   "source": [
    "# Image processing and defining test train datasets"
   ]
  },
  {
   "cell_type": "markdown",
   "id": "d58561ce-f797-4985-ab9d-26317477cb96",
   "metadata": {},
   "source": [
    "## Image extractions"
   ]
  },
  {
   "cell_type": "markdown",
   "id": "8389a839-ff7d-47e6-819b-83ea72f8c865",
   "metadata": {},
   "source": [
    "In the below class :<br>\n",
    "Initializes an empty list data.<br>\n",
    "Iterates through each label (subdirectory) inside path.<br>\n",
    "Reads each image file within the label’s subdirectory.<br>\n",
    "Flattens the image into a 1D array and appends it to data, along with its corresponding label.<br>\n",
    "Creates column names for the DataFrame (pixel1 to pixel784 for a 28x28 image and label for the class).<br>"
   ]
  },
  {
   "cell_type": "code",
   "execution_count": 3,
   "id": "23d8333f-1a8a-49d1-8a5b-5b3152e56941",
   "metadata": {},
   "outputs": [],
   "source": [
    "def images(path):\n",
    "    data = []\n",
    "    \n",
    "    for label in os.listdir(path):\n",
    "        label_path = os.path.join(path, label)\n",
    "        for img in os.listdir(label_path):\n",
    "            img_data = image.imread(os.path.join(label_path, img)).flatten()\n",
    "            data.append([*img_data, label])\n",
    "    \n",
    "    column_names = [f'pixel{i}' for i in range(1, 28 * 28 + 1)] + ['label']\n",
    "    return pd.DataFrame(data, columns=column_names)"
   ]
  },
  {
   "cell_type": "markdown",
   "id": "fbc88624-0389-4a19-a6b9-efca0e74a238",
   "metadata": {},
   "source": [
    "## Defining training and testing sets"
   ]
  },
  {
   "cell_type": "code",
   "execution_count": 4,
   "id": "66025a52-2f19-42c8-847f-c70b101d6d51",
   "metadata": {},
   "outputs": [
    {
     "data": {
      "text/html": [
       "<div>\n",
       "<style scoped>\n",
       "    .dataframe tbody tr th:only-of-type {\n",
       "        vertical-align: middle;\n",
       "    }\n",
       "\n",
       "    .dataframe tbody tr th {\n",
       "        vertical-align: top;\n",
       "    }\n",
       "\n",
       "    .dataframe thead th {\n",
       "        text-align: right;\n",
       "    }\n",
       "</style>\n",
       "<table border=\"1\" class=\"dataframe\">\n",
       "  <thead>\n",
       "    <tr style=\"text-align: right;\">\n",
       "      <th></th>\n",
       "      <th>pixel1</th>\n",
       "      <th>pixel2</th>\n",
       "      <th>pixel3</th>\n",
       "      <th>pixel4</th>\n",
       "      <th>pixel5</th>\n",
       "      <th>pixel6</th>\n",
       "      <th>pixel7</th>\n",
       "      <th>pixel8</th>\n",
       "      <th>pixel9</th>\n",
       "      <th>pixel10</th>\n",
       "      <th>...</th>\n",
       "      <th>pixel776</th>\n",
       "      <th>pixel777</th>\n",
       "      <th>pixel778</th>\n",
       "      <th>pixel779</th>\n",
       "      <th>pixel780</th>\n",
       "      <th>pixel781</th>\n",
       "      <th>pixel782</th>\n",
       "      <th>pixel783</th>\n",
       "      <th>pixel784</th>\n",
       "      <th>label</th>\n",
       "    </tr>\n",
       "  </thead>\n",
       "  <tbody>\n",
       "    <tr>\n",
       "      <th>0</th>\n",
       "      <td>0.0</td>\n",
       "      <td>0.0</td>\n",
       "      <td>0.0</td>\n",
       "      <td>0.0</td>\n",
       "      <td>0.0</td>\n",
       "      <td>0.0</td>\n",
       "      <td>0.0</td>\n",
       "      <td>0.0</td>\n",
       "      <td>0.0</td>\n",
       "      <td>0.0</td>\n",
       "      <td>...</td>\n",
       "      <td>0.007843</td>\n",
       "      <td>0.007843</td>\n",
       "      <td>0.007843</td>\n",
       "      <td>0.007843</td>\n",
       "      <td>0.007843</td>\n",
       "      <td>0.007843</td>\n",
       "      <td>0.007843</td>\n",
       "      <td>0.0</td>\n",
       "      <td>0.0</td>\n",
       "      <td>Jane</td>\n",
       "    </tr>\n",
       "    <tr>\n",
       "      <th>1</th>\n",
       "      <td>0.0</td>\n",
       "      <td>0.0</td>\n",
       "      <td>0.0</td>\n",
       "      <td>0.0</td>\n",
       "      <td>0.0</td>\n",
       "      <td>0.0</td>\n",
       "      <td>0.0</td>\n",
       "      <td>0.0</td>\n",
       "      <td>0.0</td>\n",
       "      <td>0.0</td>\n",
       "      <td>...</td>\n",
       "      <td>0.007843</td>\n",
       "      <td>0.007843</td>\n",
       "      <td>0.007843</td>\n",
       "      <td>0.007843</td>\n",
       "      <td>0.007843</td>\n",
       "      <td>0.007843</td>\n",
       "      <td>0.007843</td>\n",
       "      <td>0.0</td>\n",
       "      <td>0.0</td>\n",
       "      <td>Jane</td>\n",
       "    </tr>\n",
       "    <tr>\n",
       "      <th>2</th>\n",
       "      <td>0.0</td>\n",
       "      <td>0.0</td>\n",
       "      <td>0.0</td>\n",
       "      <td>0.0</td>\n",
       "      <td>0.0</td>\n",
       "      <td>0.0</td>\n",
       "      <td>0.0</td>\n",
       "      <td>0.0</td>\n",
       "      <td>0.0</td>\n",
       "      <td>0.0</td>\n",
       "      <td>...</td>\n",
       "      <td>0.007843</td>\n",
       "      <td>0.007843</td>\n",
       "      <td>0.007843</td>\n",
       "      <td>0.007843</td>\n",
       "      <td>0.007843</td>\n",
       "      <td>0.007843</td>\n",
       "      <td>0.007843</td>\n",
       "      <td>0.0</td>\n",
       "      <td>0.0</td>\n",
       "      <td>Jane</td>\n",
       "    </tr>\n",
       "    <tr>\n",
       "      <th>3</th>\n",
       "      <td>0.0</td>\n",
       "      <td>0.0</td>\n",
       "      <td>0.0</td>\n",
       "      <td>0.0</td>\n",
       "      <td>0.0</td>\n",
       "      <td>0.0</td>\n",
       "      <td>0.0</td>\n",
       "      <td>0.0</td>\n",
       "      <td>0.0</td>\n",
       "      <td>0.0</td>\n",
       "      <td>...</td>\n",
       "      <td>0.007843</td>\n",
       "      <td>0.007843</td>\n",
       "      <td>0.007843</td>\n",
       "      <td>0.007843</td>\n",
       "      <td>0.007843</td>\n",
       "      <td>0.007843</td>\n",
       "      <td>0.007843</td>\n",
       "      <td>0.0</td>\n",
       "      <td>0.0</td>\n",
       "      <td>Jane</td>\n",
       "    </tr>\n",
       "    <tr>\n",
       "      <th>4</th>\n",
       "      <td>0.0</td>\n",
       "      <td>0.0</td>\n",
       "      <td>0.0</td>\n",
       "      <td>0.0</td>\n",
       "      <td>0.0</td>\n",
       "      <td>0.0</td>\n",
       "      <td>0.0</td>\n",
       "      <td>0.0</td>\n",
       "      <td>0.0</td>\n",
       "      <td>0.0</td>\n",
       "      <td>...</td>\n",
       "      <td>0.007843</td>\n",
       "      <td>0.007843</td>\n",
       "      <td>0.007843</td>\n",
       "      <td>0.007843</td>\n",
       "      <td>0.007843</td>\n",
       "      <td>0.007843</td>\n",
       "      <td>0.007843</td>\n",
       "      <td>0.0</td>\n",
       "      <td>0.0</td>\n",
       "      <td>Jane</td>\n",
       "    </tr>\n",
       "  </tbody>\n",
       "</table>\n",
       "<p>5 rows × 785 columns</p>\n",
       "</div>"
      ],
      "text/plain": [
       "   pixel1  pixel2  pixel3  pixel4  pixel5  pixel6  pixel7  pixel8  pixel9  \\\n",
       "0     0.0     0.0     0.0     0.0     0.0     0.0     0.0     0.0     0.0   \n",
       "1     0.0     0.0     0.0     0.0     0.0     0.0     0.0     0.0     0.0   \n",
       "2     0.0     0.0     0.0     0.0     0.0     0.0     0.0     0.0     0.0   \n",
       "3     0.0     0.0     0.0     0.0     0.0     0.0     0.0     0.0     0.0   \n",
       "4     0.0     0.0     0.0     0.0     0.0     0.0     0.0     0.0     0.0   \n",
       "\n",
       "   pixel10  ...  pixel776  pixel777  pixel778  pixel779  pixel780  pixel781  \\\n",
       "0      0.0  ...  0.007843  0.007843  0.007843  0.007843  0.007843  0.007843   \n",
       "1      0.0  ...  0.007843  0.007843  0.007843  0.007843  0.007843  0.007843   \n",
       "2      0.0  ...  0.007843  0.007843  0.007843  0.007843  0.007843  0.007843   \n",
       "3      0.0  ...  0.007843  0.007843  0.007843  0.007843  0.007843  0.007843   \n",
       "4      0.0  ...  0.007843  0.007843  0.007843  0.007843  0.007843  0.007843   \n",
       "\n",
       "   pixel782  pixel783  pixel784  label  \n",
       "0  0.007843       0.0       0.0   Jane  \n",
       "1  0.007843       0.0       0.0   Jane  \n",
       "2  0.007843       0.0       0.0   Jane  \n",
       "3  0.007843       0.0       0.0   Jane  \n",
       "4  0.007843       0.0       0.0   Jane  \n",
       "\n",
       "[5 rows x 785 columns]"
      ]
     },
     "execution_count": 4,
     "metadata": {},
     "output_type": "execute_result"
    }
   ],
   "source": [
    "train_set = images(\"Train\")\n",
    "test_set = images(\"Test\")\n",
    "\n",
    "train_set.head()"
   ]
  },
  {
   "cell_type": "code",
   "execution_count": 5,
   "id": "58b05d1e-25ff-463a-96ae-9374242355a2",
   "metadata": {},
   "outputs": [
    {
     "name": "stdout",
     "output_type": "stream",
     "text": [
      "[[0.         0.         0.         ... 0.00784314 0.         0.        ]\n",
      " [0.         0.         0.         ... 0.00784314 0.         0.        ]\n",
      " [0.         0.         0.         ... 0.00784314 0.         0.        ]\n",
      " ...\n",
      " [0.         0.         0.         ... 0.00784314 0.         0.        ]\n",
      " [0.         0.         0.         ... 0.00784314 0.         0.        ]\n",
      " [0.         0.         0.         ... 0.00784314 0.         0.        ]]\n",
      "['Jane' 'Jane' 'Jane' ... 'Jade' 'Jade' 'Jade']\n"
     ]
    }
   ],
   "source": [
    "X_train = train_set.drop(columns='label')\n",
    "y_train = train_set['label']\n",
    "\n",
    "X_test = test_set.drop(columns='label')\n",
    "y_test= test_set['label']\n",
    "\n",
    "X_train = np.array(X_train)\n",
    "y_train = np.array(y_train)\n",
    "\n",
    "X_test = np.array(X_test)\n",
    "y_test = np.array(y_test)\n",
    "\n",
    "print(X_train,y_train,sep = \"\\n\")"
   ]
  },
  {
   "cell_type": "markdown",
   "id": "9483c45a-5e88-4419-8034-cb6867c05db9",
   "metadata": {},
   "source": [
    "## One hot encoding"
   ]
  },
  {
   "cell_type": "markdown",
   "id": "b706b02a-6c1c-4794-9ff9-cafa16d2ed44",
   "metadata": {},
   "source": [
    "Did one hot encoding using sklearn library\n",
    "Hence Changed the labels to numeric values"
   ]
  },
  {
   "cell_type": "code",
   "execution_count": 6,
   "id": "360e146c-0f16-4633-bfc9-b91f1379b37c",
   "metadata": {},
   "outputs": [
    {
     "data": {
      "text/plain": [
       "array([[0., 0., 1., 0., 0.],\n",
       "       [0., 0., 1., 0., 0.],\n",
       "       [0., 0., 1., 0., 0.],\n",
       "       ...,\n",
       "       [1., 0., 0., 0., 0.],\n",
       "       [1., 0., 0., 0., 0.],\n",
       "       [1., 0., 0., 0., 0.]])"
      ]
     },
     "execution_count": 6,
     "metadata": {},
     "output_type": "execute_result"
    }
   ],
   "source": [
    "hot_obj = OneHotEncoder(sparse_output=False)\n",
    "Y_train = hot_obj.fit_transform(y_train.reshape(-1, 1))\n",
    "Y_test = hot_obj.transform(y_test.reshape(-1, 1))\n",
    "\n",
    "Y_train"
   ]
  },
  {
   "cell_type": "markdown",
   "id": "c57cc7e2-f260-49ee-9b29-e23795a45b89",
   "metadata": {},
   "source": [
    "# Defining all the needy functions"
   ]
  },
  {
   "cell_type": "markdown",
   "id": "224d0c1e-d6de-4003-ad1a-2865998b77c2",
   "metadata": {},
   "source": [
    "## RelU"
   ]
  },
  {
   "attachments": {
    "b700f6c4-4785-4c1d-8d99-75e71a93ed85.webp": {
     "image/webp": "[encoded data removed]"
    }
   },
   "cell_type": "markdown",
   "id": "5eeb8c0f-5960-4ef1-8aff-d7a632878ac7",
   "metadata": {},
   "source": [
    "\n",
    "![a9622Jqtb4sgDmLXx7wV1qMLvo.webp](attachment:b700f6c4-4785-4c1d-8d99-75e71a93ed85.webp)"
   ]
  },
  {
   "cell_type": "code",
   "execution_count": 7,
   "id": "4e608ade-6cb3-460b-875e-e640d00c9ab5",
   "metadata": {},
   "outputs": [],
   "source": [
    "def relu(X, derivative=False):\n",
    "    if derivative:\n",
    "        return np.where(X > 0, 1, 0)\n",
    "    return np.maximum(0, X)"
   ]
  },
  {
   "cell_type": "markdown",
   "id": "76c1e1a5-5233-4921-88ad-516b2ebb75d2",
   "metadata": {},
   "source": [
    "## SoftMax"
   ]
  },
  {
   "attachments": {
    "b93545eb-b697-4303-987e-d92e01c20975.webp": {
     "image/webp": "[encoded data removed]"
    }
   },
   "cell_type": "markdown",
   "id": "1dbc3f30-69ed-460d-8c7f-2495c350ef0d",
   "metadata": {},
   "source": [
    "![65980a65531ac2845a2725a1_Mathematical_representation_of_the_softmax_function_48d4f5e786.webp](attachment:b93545eb-b697-4303-987e-d92e01c20975.webp)"
   ]
  },
  {
   "cell_type": "code",
   "execution_count": 8,
   "id": "1ed5dfa0-8a3f-4678-bfad-7bcb2fbc671b",
   "metadata": {},
   "outputs": [],
   "source": [
    "def softmax(X):\n",
    "    X = np.asarray(X, dtype=np.float64)\n",
    "    X_max = np.max(X, axis=-1, keepdims=True)\n",
    "    e_X = np.exp(X - X_max)\n",
    "    return e_X / np.sum(e_X, axis=-1, keepdims=True)"
   ]
  },
  {
   "cell_type": "markdown",
   "id": "e7339ca3-dff4-44fd-a88d-2d2b8cdbbc82",
   "metadata": {},
   "source": [
    "## Cross-Entropy loss"
   ]
  },
  {
   "attachments": {
    "a4f01c8e-9aad-4dc4-8cee-15b57001dca8.webp": {
     "image/webp": "[encoded data removed]"
    }
   },
   "cell_type": "markdown",
   "id": "b18e53ac-31b2-4ccf-86ef-943ce3f78d0e",
   "metadata": {},
   "source": [
    "![gNip2.webp](attachment:a4f01c8e-9aad-4dc4-8cee-15b57001dca8.webp)"
   ]
  },
  {
   "cell_type": "code",
   "execution_count": 9,
   "id": "4dc3f67a-3e19-4c04-a56b-ff41f5032f82",
   "metadata": {},
   "outputs": [],
   "source": [
    "def cross_entropy_loss(y_true, y_pred, derivative=False):\n",
    "    if derivative:\n",
    "        return y_pred - y_true\n",
    "    else:\n",
    "        m = y_true.shape[0]\n",
    "        return -np.sum(y_true * np.log(y_pred + 1e-15))"
   ]
  },
  {
   "cell_type": "markdown",
   "id": "e6a85fda-70e6-46cc-9903-1a23f9296498",
   "metadata": {},
   "source": [
    "# Layering class"
   ]
  },
  {
   "cell_type": "markdown",
   "id": "5acc983d-149a-44b9-a357-9486fb83f359",
   "metadata": {},
   "source": [
    "## Forward \n",
    "Computes linear transformation while using relU , softmax and Cross Entropy Lossing"
   ]
  },
  {
   "cell_type": "code",
   "execution_count": 10,
   "id": "43d17df0-5d29-4801-b018-f8506dafd8fa",
   "metadata": {},
   "outputs": [],
   "source": [
    "class Layer:\n",
    "    def __init__(self, input_size, output_size, atype):\n",
    "        self.weights = np.random.randn(input_size, output_size) * 0.1\n",
    "        self.bias = np.zeros((1, output_size))\n",
    "        self.atype = atype\n",
    "\n",
    "    def forward(self, input_data):\n",
    "        self.input_data = input_data\n",
    "        self.predictions = np.dot(input_data, self.weights) + self.bias\n",
    "        if self.atype == 'relu':\n",
    "            self.apreds = relu(self.predictions)\n",
    "        elif self.atype == 'softmax':\n",
    "            self.apreds = softmax(self.predictions)\n",
    "        return self.apreds\n",
    "\n",
    "    def backward(self, dA, alpha):\n",
    "        if self.atype == 'relu':\n",
    "            dZ = dA * relu(self.predictions, derivative=True)\n",
    "        elif self.atype == 'softmax':\n",
    "            dZ = dA\n",
    "        \n",
    "        m = self.input_data.shape[0]\n",
    "        dW = np.dot(self.input_data.T, dZ) / m\n",
    "        db = np.sum(dZ, axis=0, keepdims=True) / m\n",
    "        \n",
    "        self.weights -= alpha * dW\n",
    "        self.bias -= alpha * db\n",
    "        \n",
    "        dA_prev = np.dot(dZ, self.weights.T)\n",
    "        return dA_prev\n"
   ]
  },
  {
   "cell_type": "markdown",
   "id": "44c01ffc-3bcc-42bc-bad0-c9f876dd5a73",
   "metadata": {},
   "source": [
    "# Neural Network IMPlemtationnnnnnn"
   ]
  },
  {
   "cell_type": "markdown",
   "id": "3853691a-b341-44ca-930f-7ee30a439035",
   "metadata": {},
   "source": [
    "## Main Class"
   ]
  },
  {
   "cell_type": "code",
   "execution_count": 11,
   "id": "9b7c01d1-089e-4972-92cb-adafe93c9619",
   "metadata": {},
   "outputs": [],
   "source": [
    "class NeuralNetwork:\n",
    "    def __init__(self, layer_sizes, atype):\n",
    "        self.layers = []\n",
    "        for i in range(1, len(layer_sizes)):\n",
    "            activator = 'relu' if i < len(layer_sizes) - 1 else 'softmax'\n",
    "            self.layers.append(Layer(layer_sizes[i-1], layer_sizes[i], activator))\n",
    "\n",
    "    def forward(self, X):\n",
    "        self.cache = []\n",
    "        activation = X\n",
    "        for layer in self.layers:\n",
    "            activation = layer.forward(activation)\n",
    "            self.cache.append(activation)\n",
    "        return activation\n",
    "\n",
    "    def backward(self, X, y_true, alpha):\n",
    "        dA = cross_entropy_loss(y_true, self.cache[-1], derivative=True)\n",
    "        for layer in reversed(self.layers):\n",
    "            dA = layer.backward(dA, alpha)\n",
    "\n",
    "    def train(self, X, y, epochs, initial_alpha, decay_rate=0.0001):\n",
    "        loading_string = '⬛' * 20\n",
    "        loading_list = list(loading_string)\n",
    "        for epoch in range(epochs):\n",
    "            alpha = initial_alpha / (1 + decay_rate * epoch)\n",
    "            predictions = self.forward(X)\n",
    "            loss = cross_entropy_loss(y, predictions)\n",
    "            losses.append(loss)\n",
    "            self.backward(X, y, alpha)\n",
    "            if epoch % 200 == 0:\n",
    "                loading_list[epoch//200] = '⬜'  # Change dot to 'X'\n",
    "                sys.stdout.write('\\r' + ''.join(loading_list))\n",
    "                sys.stdout.flush()\n",
    "    \n",
    "    def predict(self, values):\n",
    "        return self.forward(values)"
   ]
  },
  {
   "cell_type": "markdown",
   "id": "32e279fa-3ae9-46af-9fcf-ffb4cb99b9b0",
   "metadata": {},
   "source": [
    "## Training .. . "
   ]
  },
  {
   "cell_type": "code",
   "execution_count": 12,
   "id": "453090f6-1c3c-4e67-868f-201f8dacf5b8",
   "metadata": {},
   "outputs": [
    {
     "name": "stdout",
     "output_type": "stream",
     "text": [
      "⬜⬜⬜⬜⬜⬜⬜⬜⬜⬜⬜⬜⬜⬜⬜⬜⬜⬜⬜⬜Done\n"
     ]
    }
   ],
   "source": [
    "losses = []\n",
    "layer_sizes = [28*28, 30, 5] \n",
    "atype = 'relu'  \n",
    "nut = NeuralNetwork(layer_sizes, atype)\n",
    "epochs = 4000\n",
    "initial_alpha = 0.1111\n",
    "nut.train(X_train, Y_train, epochs, initial_alpha)\n",
    "print(\"Done\")"
   ]
  },
  {
   "cell_type": "markdown",
   "id": "7f864fe4-c413-47ec-bdd4-b602697c8ba7",
   "metadata": {},
   "source": [
    "# Plotting and Testing"
   ]
  },
  {
   "cell_type": "markdown",
   "id": "089ac573-e361-4442-84a4-6ecbb2909139",
   "metadata": {},
   "source": [
    "## Epoch Vs Loss"
   ]
  },
  {
   "cell_type": "code",
   "execution_count": 13,
   "id": "aace4ed5-b3d9-4911-9a86-adbec23f9c5f",
   "metadata": {},
   "outputs": [
    {
     "data": {
      "image/png": "[encoded data removed]",
      "text/plain": [
       "<Figure size 640x480 with 1 Axes>"
      ]
     },
     "metadata": {},
     "output_type": "display_data"
    }
   ],
   "source": [
    "plt.plot(range(0, epochs), losses)\n",
    "plt.title(\"Loss versus iterations\")\n",
    "plt.show()"
   ]
  },
  {
   "cell_type": "markdown",
   "id": "2f872084-5125-4f0d-b7d8-2dd992ecd91a",
   "metadata": {},
   "source": [
    "## Tetsing ... ."
   ]
  },
  {
   "cell_type": "code",
   "execution_count": 14,
   "id": "0f520006-2aaa-4d96-90dd-3f07175daffe",
   "metadata": {},
   "outputs": [],
   "source": [
    "Y_pred = nut.predict(X_test)\n",
    "Y_pred_labels = np.argmax(Y_pred, axis=1)\n",
    "Y_true_labels = np.argmax(Y_test, axis=1)"
   ]
  },
  {
   "cell_type": "markdown",
   "id": "1cf9023f-b578-44a8-a190-60a207b36220",
   "metadata": {},
   "source": [
    "## Confusion matrix"
   ]
  },
  {
   "cell_type": "code",
   "execution_count": 15,
   "id": "d626b0e9-36ed-463e-912a-7c76fb57eb14",
   "metadata": {},
   "outputs": [
    {
     "data": {
      "image/png": "[encoded data removed]",
      "text/plain": [
       "<Figure size 640x480 with 2 Axes>"
      ]
     },
     "metadata": {},
     "output_type": "display_data"
    }
   ],
   "source": [
    "conf_matrix = confusion_matrix(Y_true_labels, Y_pred_labels)\n",
    "display = ConfusionMatrixDisplay(confusion_matrix=conf_matrix, display_labels=hot_obj.categories_[0])\n",
    "display.plot(cmap=plt.cm.Reds)\n",
    "plt.title(\"Confusion Matrix\")\n",
    "plt.show()"
   ]
  },
  {
   "cell_type": "markdown",
   "id": "7e4e9164-0d54-4335-a43a-0fec67305429",
   "metadata": {},
   "source": [
    "## Classification report"
   ]
  },
  {
   "cell_type": "code",
   "execution_count": 16,
   "id": "fd8403fd-a5c1-4bf0-a7f4-e80ac0d7f415",
   "metadata": {},
   "outputs": [
    {
     "name": "stdout",
     "output_type": "stream",
     "text": [
      "Accuracy = 0.954\n",
      "F1 Score = [1.         0.93765586 0.94789082 0.93       0.95454545]\n",
      "Recall Score = [1.    0.94  0.955 0.93  0.945]\n",
      "Precision Score = [1.         0.93532338 0.9408867  0.93       0.96428571]\n"
     ]
    }
   ],
   "source": [
    "accuracy = accuracy_score(Y_true_labels, Y_pred_labels)\n",
    "f1 = f1_score(Y_true_labels, Y_pred_labels, average=None)\n",
    "recall = recall_score(Y_true_labels, Y_pred_labels, average=None)\n",
    "precision = precision_score(Y_true_labels, Y_pred_labels, average=None)\n",
    "\n",
    "print(\"Accuracy =\", accuracy)\n",
    "print(\"F1 Score =\", f1)\n",
    "print(\"Recall Score =\", recall)\n",
    "print(\"Precision Score =\", precision)"
   ]
  }
 ],
 "metadata": {
  "kernelspec": {
   "display_name": "Python 3 (ipykernel)",
   "language": "python",
   "name": "python3"
  },
  "language_info": {
   "codemirror_mode": {
    "name": "ipython",
    "version": 3
   },
   "file_extension": ".py",
   "mimetype": "text/x-python",
   "name": "python",
   "nbconvert_exporter": "python",
   "pygments_lexer": "ipython3",
   "version": "3.10.12"
  }
 },
 "nbformat": 4,
 "nbformat_minor": 5
}
